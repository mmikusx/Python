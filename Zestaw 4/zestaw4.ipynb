{
 "cells": [
  {
   "cell_type": "code",
   "execution_count": 6,
   "metadata": {
    "collapsed": true,
    "pycharm": {
     "name": "#%%\n"
    }
   },
   "outputs": [
    {
     "name": "stdout",
     "output_type": "stream",
     "text": [
      "|....|....|....|....|....|....|....|....|....|....|....|\n",
      "0    1    2    3    4    5    6    7    8    9   10   11\n",
      "+---+---+---+\n",
      "|   |   |   |\n",
      "+---+---+---+\n",
      "|   |   |   |\n",
      "+---+---+---+\n",
      "|   |   |   |\n",
      "+---+---+---+\n",
      "\n"
     ]
    }
   ],
   "source": [
    "# Zadanie 2\n",
    "# Rozwiązania zadań 3.5 i 3.6 z poprzedniego zestawu zapisać w postaci funkcji, które zwracają\n",
    "# pełny string przez return. Funkcje nie powinny pytać użytkownika o dane, tylko korzystać z argumentów.\n",
    "def make_ruler(leng):\n",
    "    length = int(leng)\n",
    "\n",
    "    result1 = '|....'\n",
    "    result2 = '0'\n",
    "\n",
    "    for i in range(1, length + 1):\n",
    "        if i != length:\n",
    "            result1 += '|....'\n",
    "        else:\n",
    "            result1 += '|'\n",
    "        result2 += str(i).rjust(5)\n",
    "\n",
    "    return result1 + '\\n' + result2\n",
    "\n",
    "def make_grid(height, width):\n",
    "    h = int(height)\n",
    "    w = int(width)\n",
    "    text = ''\n",
    "    for i in range (0, (2 * h) + 1):\n",
    "        for j in range (0, (4 * w) + 1):\n",
    "            if (j % 4) == 0:\n",
    "                text += \"|\" if i % 2 == 1 else \"+\"\n",
    "                if j == 4 * w:\n",
    "                    text += \"\\n\"\n",
    "            else:\n",
    "                text += \" \" if i % 2 == 1 else \"-\"\n",
    "\n",
    "    return text\n",
    "\n",
    "print(make_ruler(11))\n",
    "print(make_grid(3, 3))"
   ]
  },
  {
   "cell_type": "code",
   "execution_count": 7,
   "outputs": [
    {
     "name": "stdout",
     "output_type": "stream",
     "text": [
      "1\n",
      "40320\n",
      "24\n",
      "39916800\n"
     ]
    }
   ],
   "source": [
    "# Zadanie 3\n",
    "# Napisać iteracyjną wersję funkcji factorial(n) obliczającej silnię.\n",
    "\n",
    "def silnia(x):\n",
    "    result = 1\n",
    "    for i in range(1, x + 1):\n",
    "        result = result * i\n",
    "\n",
    "    return result\n",
    "\n",
    "print(silnia(0))\n",
    "print(silnia(8))\n",
    "print(silnia(4))\n",
    "print(silnia(11))\n",
    "assert silnia(4) == 24"
   ],
   "metadata": {
    "collapsed": false,
    "pycharm": {
     "name": "#%%\n"
    }
   }
  },
  {
   "cell_type": "code",
   "execution_count": 8,
   "outputs": [
    {
     "name": "stdout",
     "output_type": "stream",
     "text": [
      "13\n",
      "2\n",
      "233\n"
     ]
    }
   ],
   "source": [
    "# Zadanie 4\n",
    "# Napisać iteracyjną wersję funkcji fibonacci(n) obliczającej n-ty wyraz ciągu Fibonacciego.\n",
    "\n",
    "def fibonacci(n):\n",
    "    x = 0\n",
    "    y = 1\n",
    "    for i in range(n):\n",
    "        z = x\n",
    "        x = y\n",
    "        y += z\n",
    "\n",
    "    return x\n",
    "\n",
    "print(fibonacci(7))\n",
    "print(fibonacci(3))\n",
    "print(fibonacci(13))\n",
    "assert fibonacci(13) == 233"
   ],
   "metadata": {
    "collapsed": false,
    "pycharm": {
     "name": "#%%\n"
    }
   }
  },
  {
   "cell_type": "code",
   "execution_count": 9,
   "outputs": [
    {
     "name": "stdout",
     "output_type": "stream",
     "text": [
      "[0, 2, 4, 6, 8, 10, 12, 14]\n",
      "[0, 2, 4, 14, 12, 10, 8, 6]\n",
      "[0, 12, 14, 4, 2, 10, 8, 6]\n"
     ]
    }
   ],
   "source": [
    "# Zadanie 5\n",
    "# Napisać funkcję odwracanie(L, left, right) odwracającą kolejność elementów na liście od numeru left do right\n",
    "# włącznie. Lista jest modyfikowana w miejscu (in place). Rozważyć wersję iteracyjną i rekurencyjną.\n",
    "\n",
    "L = [x for x in range(0, 15, 2)]\n",
    "def odwracanie(L, left, right):\n",
    "    while True:\n",
    "        if left >= right:\n",
    "            break\n",
    "        else:\n",
    "            help = L[left]\n",
    "            help2 = L[right]\n",
    "            L[left] = help2\n",
    "            L[right] = help\n",
    "            left += 1\n",
    "            right -= 1\n",
    "            del help, help2\n",
    "\n",
    "def odwracanieRekurencyjnie(L, left, right):\n",
    "    if left < right:\n",
    "        help = L[left]\n",
    "        help2 = L[right]\n",
    "        L[left] = help2\n",
    "        L[right] = help\n",
    "        del help, help2\n",
    "        odwracanieRekurencyjnie(L, left + 1, right - 1)\n",
    "\n",
    "print(L)\n",
    "odwracanie(L, 3, 7)\n",
    "print(L)\n",
    "odwracanieRekurencyjnie(L, 1, 4)\n",
    "print(L)"
   ],
   "metadata": {
    "collapsed": false,
    "pycharm": {
     "name": "#%%\n"
    }
   }
  },
  {
   "cell_type": "code",
   "execution_count": 10,
   "outputs": [
    {
     "name": "stdout",
     "output_type": "stream",
     "text": [
      "90\n"
     ]
    }
   ],
   "source": [
    "# Zadanie 6\n",
    "# Napisać funkcję sum_seq(sequence) obliczającą sumę liczb zawartych w sekwencji, która może zawierać zagnieżdżone\n",
    "# podsekwencje. Wskazówka: rozważyć wersję rekurencyjną, a sprawdzanie, czy element jest sekwencją, wykonać przez\n",
    "# isinstance(item, (list, tuple)).\n",
    "\n",
    "def sum_seq(seq):\n",
    "    suma = 0\n",
    "    for element in seq:\n",
    "        if isinstance(element, (list, tuple)) == True:\n",
    "            suma += sum_seq(element)\n",
    "        else:\n",
    "            suma += element\n",
    "\n",
    "    return suma\n",
    "\n",
    "sequence = [1, (3, 1, 5), [[], [4], (1, 2), [3, 4], (5, 6, 7), [11, 23, 1, 3]], [3, 7]]\n",
    "print(sum_seq(sequence))"
   ],
   "metadata": {
    "collapsed": false,
    "pycharm": {
     "name": "#%%\n"
    }
   }
  },
  {
   "cell_type": "code",
   "execution_count": 12,
   "outputs": [
    {
     "name": "stdout",
     "output_type": "stream",
     "text": [
      "[1, (3, 1, 5), [[], [4], (1, 2), [3, 4], (5, 6, 7), [11, 23, 1, 3]], [3, 7]]\n",
      "[1, 3, 1, 5, 4, 1, 2, 3, 4, 5, 6, 7, 11, 23, 1, 3, 3, 7]\n",
      "[1, (2, 3), [], [4, (5, 6, 7)], 8, [9]]\n",
      "[1, 2, 3, 4, 5, 6, 7, 8, 9]\n"
     ]
    }
   ],
   "source": [
    "# Zadanie 7\n",
    "# Mamy daną sekwencję, w której niektóre z elementów mogą okazać się podsekwencjami, a takie zagnieżdżenia mogą\n",
    "# się nakładać do nieograniczonej głębokości. Napisać funkcję flatten(sequence), która zwróci spłaszczoną listę\n",
    "# wszystkich elementów sekwencji. Wskazówka: rozważyć wersję rekurencyjną, a sprawdzanie czy element jest sekwencją,\n",
    "# wykonać przez isinstance(item, (list, tuple)).\n",
    "\n",
    "# seq = [1,(2,3),[],[4,(5,6,7)],8,[9]]\n",
    "# print ( flatten(seq) )   # [1,2,3,4,5,6,7,8,9]\n",
    "\n",
    "def flatten(seq):\n",
    "    flattened_seq = []\n",
    "    for element in seq:\n",
    "        if isinstance(element, (list, tuple)) == True:\n",
    "            flattened_seq.extend(flatten(element))\n",
    "        else:\n",
    "            flattened_seq.append(element)\n",
    "\n",
    "    return flattened_seq\n",
    "\n",
    "sequence = [1, (3, 1, 5), [[], [4], (1, 2), [3, 4], (5, 6, 7), [11, 23, 1, 3]], [3, 7]]\n",
    "seq = [1,(2,3),[],[4,(5,6,7)],8,[9]]\n",
    "print(sequence)\n",
    "print(flatten(sequence))\n",
    "print(seq)\n",
    "print ( flatten(seq) )"
   ],
   "metadata": {
    "collapsed": false,
    "pycharm": {
     "name": "#%%\n"
    }
   }
  }
 ],
 "metadata": {
  "kernelspec": {
   "display_name": "Python 3",
   "language": "python",
   "name": "python3"
  },
  "language_info": {
   "codemirror_mode": {
    "name": "ipython",
    "version": 2
   },
   "file_extension": ".py",
   "mimetype": "text/x-python",
   "name": "python",
   "nbconvert_exporter": "python",
   "pygments_lexer": "ipython2",
   "version": "2.7.6"
  }
 },
 "nbformat": 4,
 "nbformat_minor": 0
}