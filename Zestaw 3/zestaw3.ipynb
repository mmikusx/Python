{
 "cells": [
  {
   "cell_type": "code",
   "execution_count": null,
   "metadata": {
    "collapsed": true,
    "pycharm": {
     "name": "#%%\n"
    }
   },
   "outputs": [],
   "source": [
    "# Zadanie 1\n",
    "# Czy podany kod jest poprawny składniowo w Pythonie? Jeśli nie, to dlaczego?\n",
    "\n",
    "x = 2; y = 3;\n",
    "if (x > y):\n",
    "    result = x;\n",
    "else:\n",
    "    result = y;\n",
    "\n",
    "# podany kod jest poprawny"
   ]
  },
  {
   "cell_type": "code",
   "execution_count": null,
   "outputs": [],
   "source": [
    "# Zadanie 1\n",
    "\n",
    "for i in \"axby\": if ord(i) < 100: print (i)\n",
    "\n",
    "# podany kod jest niepoprawny, błąd składni kodu, jest zbyt dużo poleceń w jednej linijce kodu,\n",
    "# rozdzielenie tego kodu na oddzielne linijki rozwiązałoby problem"
   ],
   "metadata": {
    "collapsed": false,
    "pycharm": {
     "name": "#%%\n"
    }
   }
  },
  {
   "cell_type": "code",
   "execution_count": null,
   "outputs": [],
   "source": [
    "# Zadanie 1\n",
    "\n",
    "for i in \"axby\": print (ord(i) if ord(i) < 100 else i)\n",
    "\n",
    "# podany kod jest poprawny"
   ],
   "metadata": {
    "collapsed": false,
    "pycharm": {
     "name": "#%%\n"
    }
   }
  },
  {
   "cell_type": "code",
   "execution_count": null,
   "outputs": [],
   "source": [
    "# Zadanie 2\n",
    "# Co jest złego w kodzie:\n",
    "\n",
    "L = [3, 5, 4] ; L = L.sort()\n",
    "# przypisanie do L L.sort powoduje, że zwracana jest wartość none\n",
    "\n",
    "x, y = 1, 2, 3\n",
    "# sa dwie zmienne, a chcemy przypisać 3 wartości, brakuje zmiennej do której 3 mogłoby być przypisane\n",
    "\n",
    "X = 1, 2, 3 ; X[1] = 4\n",
    "# X nie jest stworzone jako tablica, brakuje nawiasów kwadratowych [1, 2, 3]\n",
    "\n",
    "X = [1, 2, 3] ; X[3] = 4\n",
    "# X jest trzyelementowy, więc jest numerowany do 2, próbujemy przypisać wartość do nieistniejącego elementu\n",
    "# X[3]\n",
    "\n",
    "X = \"abc\" ; X.append(\"d\")\n",
    "# funkcja append dodaje element do listy, a X nie jest listą tylko stringiem\n",
    "\n",
    "L = list(map(pow, range(8)))\n",
    "# w funkcji pow nie ma podanych argumentów, co i do ktorej potegi ma podniesc"
   ],
   "metadata": {
    "collapsed": false,
    "pycharm": {
     "name": "#%%\n"
    }
   }
  },
  {
   "cell_type": "code",
   "execution_count": 1,
   "outputs": [
    {
     "name": "stdout",
     "output_type": "stream",
     "text": [
      "0, 1, 2, 4, 5, 7, 8, 10, 11, 13, 14, 16, 17, 19, 20, 22, 23, 25, 26, 28, 29\n"
     ]
    }
   ],
   "source": [
    "# Zadanie 3\n",
    "# Wypisać w pętli liczby od 0 do 30 z wyjątkiem liczb podzielnych przez 3.\n",
    "\n",
    "result = ''\n",
    "for i in range(31):\n",
    "    if i % 3 != 0 or i == 0:\n",
    "        result += str(i) + ', ' if i != 29 else str(i)\n",
    "\n",
    "print(result)"
   ],
   "metadata": {
    "collapsed": false,
    "pycharm": {
     "name": "#%%\n"
    }
   }
  },
  {
   "cell_type": "code",
   "execution_count": null,
   "outputs": [],
   "source": [
    "# Zadanie 4\n",
    "# Napisać program pobierający w pętli od użytkownika liczbę rzeczywistą x (typ float) i wypisujący x oraz trzecią\n",
    "# potęgę x. Zatrzymanie programu następuje po wpisaniu z klawiatury stop. Jeżeli użytkownik wpisze napis zamiast\n",
    "# liczby, to program ma wypisać komunikat o błędzie i kontynuować pracę.\n",
    "\n",
    "while True:\n",
    "    inp = input(\"Podaj liczbe rzeczywista: \")\n",
    "\n",
    "    try:\n",
    "        print(\"Liczba:\", float(inp))\n",
    "        print(\"Trzecia potega liczby:\", pow(float(inp), 3))\n",
    "    except ValueError:\n",
    "        if inp.lower() == 'stop':\n",
    "            quit()\n",
    "        else:\n",
    "            print(\"BLAD! Wpisano tekst zamiast liczby\")"
   ],
   "metadata": {
    "collapsed": false,
    "pycharm": {
     "name": "#%%\n"
    }
   }
  },
  {
   "cell_type": "code",
   "execution_count": 2,
   "outputs": [
    {
     "name": "stdout",
     "output_type": "stream",
     "text": [
      "Podana dlugosc: 14\n",
      "|....|....|....|....|....|....|....|....|....|....|....|....|....|....|\n",
      "0    1    2    3    4    5    6    7    8    9   10   11   12   13   14\n"
     ]
    }
   ],
   "source": [
    "# Zadanie 5\n",
    "# Napisać program rysujący \"miarkę\" o zadanej długości. Należy prawidłowo obsłużyć liczby składające się z kilku cyfr\n",
    "# (ostatnia cyfra liczby ma znajdować się pod znakiem kreski pionowej). Należy zbudować pełny string, a potem go\n",
    "# wypisać.\n",
    "#\n",
    "# |....|....|....|....|....|....|....|....|....|....|....|....|\n",
    "# 0    1    2    3    4    5    6    7    8    9   10   11   12\n",
    "\n",
    "leng = input(\"Podaj dlugosc miarki do narysowania: \")\n",
    "length = int(leng)\n",
    "\n",
    "result1 = '|....'\n",
    "result2 = '0'\n",
    "\n",
    "for i in range(1, length + 1):\n",
    "    if i != length:\n",
    "        result1 += '|....'\n",
    "    else:\n",
    "        result1 += '|'\n",
    "    result2 += str(i).rjust(5)\n",
    "\n",
    "result = result1 + '\\n' + result2\n",
    "print(\"Podana dlugosc:\", length)\n",
    "print(result)"
   ],
   "metadata": {
    "collapsed": false,
    "pycharm": {
     "name": "#%%\n"
    }
   }
  },
  {
   "cell_type": "code",
   "execution_count": 3,
   "outputs": [
    {
     "name": "stdout",
     "output_type": "stream",
     "text": [
      "Podana wysokosc: 3 szerokosc: 5\n",
      "+---+---+---+---+---+\n",
      "|   |   |   |   |   |\n",
      "+---+---+---+---+---+\n",
      "|   |   |   |   |   |\n",
      "+---+---+---+---+---+\n",
      "|   |   |   |   |   |\n",
      "+---+---+---+---+---+\n",
      "\n"
     ]
    }
   ],
   "source": [
    "# Zadanie 6\n",
    "# Napisać program rysujący prostokąt zbudowany z małych kratek. Należy zbudować pełny string, a potem go wypisać.\n",
    "# Przykładowy prostokąt składający się 2x4 pól ma postać:\n",
    "# +---+---+---+---+\n",
    "# |   |   |   |   |\n",
    "# +---+---+---+---+\n",
    "# |   |   |   |   |\n",
    "# +---+---+---+---+\n",
    "\n",
    "height = int(input(\"Podaj wysokosc: \"))\n",
    "width = int(input(\"Podaj szerokosc: \"))\n",
    "text = ''\n",
    "for i in range (0, (2 * height) + 1):\n",
    "    for j in range (0, (4 * width) + 1):\n",
    "        if (j % 4) == 0:\n",
    "            text += \"|\" if i % 2 == 1 else \"+\"\n",
    "            if j == 4 * width:\n",
    "                text += \"\\n\"\n",
    "        else:\n",
    "            text += \" \" if i % 2 == 1 else \"-\"\n",
    "\n",
    "print(\"Podana wysokosc:\", height, \"szerokosc:\", width)\n",
    "print(text)"
   ],
   "metadata": {
    "collapsed": false,
    "pycharm": {
     "name": "#%%\n"
    }
   }
  },
  {
   "cell_type": "code",
   "execution_count": 4,
   "outputs": [
    {
     "name": "stdout",
     "output_type": "stream",
     "text": [
      "[1, 3, 5, 11] [1, 2, 3, 4, 5, 6, 7, 8, 9, 10, 11]\n"
     ]
    }
   ],
   "source": [
    "# Zadanie 8\n",
    "# Dla dwóch sekwencji liczb lub znaków znaleźć: (a) listę elementów występujących jednocześnie w obu\n",
    "# sekwencjach (bez powtórzeń), (b) listę wszystkich elementów z obu sekwencji (bez powtórzeń).\n",
    "\n",
    "sekw1 = [1, 3, 5, 7, 8, 9, 10, 11]\n",
    "sekw2 = [1, 2, 3, 4, 5, 6, 11]\n",
    "sekw_a = []\n",
    "sekw_b = []\n",
    "\n",
    "for x, y in zip(sekw1, sekw2):\n",
    "    if x in sekw2:\n",
    "        sekw_a.append(x)\n",
    "    elif y in sekw1 and y not in sekw_a:\n",
    "        sekw_a.append(y)\n",
    "\n",
    "sekw_b = list(set(sekw1 + sekw2))\n",
    "\n",
    "print(sekw_a, sekw_b)"
   ],
   "metadata": {
    "collapsed": false,
    "pycharm": {
     "name": "#%%\n"
    }
   }
  },
  {
   "cell_type": "code",
   "execution_count": 5,
   "outputs": [
    {
     "name": "stdout",
     "output_type": "stream",
     "text": [
      "[0, 4, 3, 7, 18, 38]\n"
     ]
    }
   ],
   "source": [
    "# Zadanie 9\n",
    "# Mamy daną listę sekwencji (listy lub krotki) różnej długości zawierających liczby. Znaleźć listę\n",
    "# zawierającą sumy liczb z tych sekwencji. Przykładowa sekwencja [[],[4],(1,2),[3,4],(5,6,7)],\n",
    "# spodziewany wynik [0,4,3,7,18].\n",
    "\n",
    "lista = [[], [4], (1, 2), [3, 4], (5, 6, 7), [11, 23, 1, 3]]\n",
    "result = []\n",
    "result_liczba = 0\n",
    "for element in lista:\n",
    "    if not element:\n",
    "        result.append(0)\n",
    "    else:\n",
    "        for elem in element:\n",
    "                result_liczba += int(elem)\n",
    "        result.append(result_liczba)\n",
    "        result_liczba = 0\n",
    "\n",
    "print(result)"
   ],
   "metadata": {
    "collapsed": false,
    "pycharm": {
     "name": "#%%\n"
    }
   }
  },
  {
   "cell_type": "code",
   "execution_count": 6,
   "outputs": [
    {
     "name": "stdout",
     "output_type": "stream",
     "text": [
      "900\n",
      "1022\n",
      "2234\n"
     ]
    }
   ],
   "source": [
    "# Zadanie 10\n",
    "# Stworzyć słownik tłumaczący liczby zapisane w systemie rzymskim (z literami I, V, X, L, C, D, M) na liczby\n",
    "# arabskie (podać kilka sposobów tworzenia takiego słownika). Mile widziany kod tłumaczący całą liczbę\n",
    "# [funkcja roman2int()].\n",
    "\n",
    "# Możemy stworzyc tez slownik z przedrostkami do liczb np. 'IV' : 4, 'IX' : 9, itp\n",
    "\n",
    "def roman2int(text):\n",
    "    roman_dict = {'I' : 1, 'V' : 5, 'X' : 10, 'L' : 50, 'C' : 100, 'D' : 500, 'M' : 1000}\n",
    "    result = 0\n",
    "    for i in range(0, len(text)):\n",
    "        if (i + 1) < len(text) and roman_dict[text[i]] < roman_dict[text[i+1]]: # jeśli wartosc litery i jets mniejsza od\n",
    "            # wartości i+1 to odejmujemy\n",
    "            result -= roman_dict[text[i]]\n",
    "        else: # w przeciwnym razie dodajemy\n",
    "            result += roman_dict[text[i]]\n",
    "\n",
    "    return result\n",
    "\n",
    "print(roman2int(\"CM\")) #900\n",
    "print(roman2int(\"MXXII\")) #1022\n",
    "print(roman2int(\"MMCCXXXIV\")) #2234"
   ],
   "metadata": {
    "collapsed": false,
    "pycharm": {
     "name": "#%%\n"
    }
   }
  }
 ],
 "metadata": {
  "kernelspec": {
   "display_name": "Python 3",
   "language": "python",
   "name": "python3"
  },
  "language_info": {
   "codemirror_mode": {
    "name": "ipython",
    "version": 2
   },
   "file_extension": ".py",
   "mimetype": "text/x-python",
   "name": "python",
   "nbconvert_exporter": "python",
   "pygments_lexer": "ipython2",
   "version": "2.7.6"
  }
 },
 "nbformat": 4,
 "nbformat_minor": 0
}